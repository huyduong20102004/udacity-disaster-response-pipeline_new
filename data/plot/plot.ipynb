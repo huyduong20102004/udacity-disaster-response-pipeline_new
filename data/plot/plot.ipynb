{
 "cells": [
  {
   "cell_type": "code",
   "execution_count": 2,
   "metadata": {},
   "outputs": [],
   "source": [
    "import pandas as pd"
   ]
  },
  {
   "cell_type": "code",
   "execution_count": 3,
   "metadata": {},
   "outputs": [
    {
     "name": "stderr",
     "output_type": "stream",
     "text": [
      "<ipython-input-3-0556eec0a153>:1: DtypeWarning: Columns (2) have mixed types. Specify dtype option on import or set low_memory=False.\n",
      "  df = pd.read_csv('../cleaned.csv')\n"
     ]
    }
   ],
   "source": [
    "df = pd.read_csv('../cleaned.csv')"
   ]
  },
  {
   "cell_type": "markdown",
   "metadata": {},
   "source": [
    "## Count by genre"
   ]
  },
  {
   "cell_type": "code",
   "execution_count": 4,
   "metadata": {},
   "outputs": [],
   "source": [
    "# Count by genre\n",
    "genre_count = df['genre'].value_counts()\n",
    "genre_count.to_csv('genre_count.csv')"
   ]
  },
  {
   "cell_type": "markdown",
   "metadata": {},
   "source": [
    "## Top 5 categories"
   ]
  },
  {
   "cell_type": "code",
   "execution_count": 5,
   "metadata": {},
   "outputs": [],
   "source": [
    "# Show top 5 categories and show the count of each category\n",
    "top5cates = df.iloc[:, 4:].sum().sort_values(ascending=False).head()\n",
    "top5catesdf = pd.DataFrame(top5cates)\n",
    "top5catesdf.reset_index(inplace=True)\n",
    "top5catesdf.columns = ['category','counts']\n",
    "top5catesdf.to_csv('top5cates.csv', index=False)"
   ]
  },
  {
   "cell_type": "markdown",
   "metadata": {},
   "source": [
    "## Correlation"
   ]
  },
  {
   "cell_type": "code",
   "execution_count": 11,
   "metadata": {},
   "outputs": [],
   "source": [
    "Essential_Needs = df[['water','food','shelter','clothing','money']]\n",
    "# Correlation between Essential_Needs\n",
    "Essential_Needs_corr = Essential_Needs.corr()\n",
    "                    \n",
    "x,y,z = [],[],[]\n",
    "for i in range(5):\n",
    "    for j in range(5):\n",
    "        x.append(Essential_Needs_corr.index[i])\n",
    "        y.append(Essential_Needs_corr.columns[j])\n",
    "        z.append(Essential_Needs_corr.iloc[i,j])\n",
    "\n",
    "corr = pd.DataFrame({'x':x,'y':y,'z':z})\n",
    "corr.to_csv('corr.csv', index=False)"
   ]
  },
  {
   "cell_type": "code",
   "execution_count": 8,
   "metadata": {},
   "outputs": [
    {
     "name": "stdout",
     "output_type": "stream",
     "text": [
      "child_alone\n",
      "0    26216\n",
      "Name: count, dtype: int64\n"
     ]
    }
   ],
   "source": [
    "print(df['child_alone'].value_counts())"
   ]
  }
 ],
 "metadata": {
  "kernelspec": {
   "display_name": "Python 3",
   "language": "python",
   "name": "python3"
  },
  "language_info": {
   "codemirror_mode": {
    "name": "ipython",
    "version": 3
   },
   "file_extension": ".py",
   "mimetype": "text/x-python",
   "name": "python",
   "nbconvert_exporter": "python",
   "pygments_lexer": "ipython3",
   "version": "3.11.7"
  }
 },
 "nbformat": 4,
 "nbformat_minor": 2
}
